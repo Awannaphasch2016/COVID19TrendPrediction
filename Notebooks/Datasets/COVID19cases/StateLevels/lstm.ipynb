{
 "cells": [
  {
   "cell_type": "code",
   "execution_count": 41,
   "metadata": {},
   "outputs": [],
   "source": [
    "import os\n",
    "import pathlib\n",
    "\n",
    "import matplotlib.pyplot as plt\n",
    "import numpy as np\n",
    "import pandas as pd\n",
    "import plotly.express as px\n",
    "from keras.layers import LSTM, Dense\n",
    "from keras.models import Sequential\n",
    "from keras.preprocessing.sequence import TimeseriesGenerator\n",
    "\n",
    "from global_params import *\n",
    "from sklearn.metrics import r2_score"
   ]
  },
  {
   "cell_type": "code",
   "execution_count": 11,
   "metadata": {},
   "outputs": [],
   "source": [
    "\n",
    "\n",
    "# ==params\n",
    "n_input = 5\n",
    "n_features = 1\n",
    "\n",
    "# ==helper\n",
    "def split(ts):\n",
    "    size = int(len(ts) * 0.85)\n",
    "    train = ts[:size]\n",
    "    test = ts[size:]\n",
    "    return (train, test)\n",
    "\n",
    "\n",
    "# ==experiment\n",
    "data = pd.read_csv(\n",
    "    str(BASEPATH / pathlib.Path(\"Data/raw/COVID19Cases/StateLevels/us-states.csv\"))\n",
    ")  # (18824, 5)\n",
    "\n",
    "df_by_date = pd.DataFrame(\n",
    "    data.fillna(\"NA\")\n",
    "    .groupby([\"state\", \"date\"])[\"cases\"]\n",
    "    .sum()\n",
    "    .sort_values()\n",
    "    .reset_index()\n",
    ")\n",
    "case_by_date_florida = df_by_date[df_by_date[\"state\"] == \"Florida\"]\n",
    "# print(case_by_date_florida)\n",
    "# print(case_by_date_florida.shape)\n",
    "# exit()\n",
    "\n",
    "case_by_date_florida_np = case_by_date_florida.to_numpy()[:, 2:].astype('float32')\n",
    "# print(case_by_date_florida_np)\n",
    "# print(case_by_date_florida_np.shape)\n",
    "# exit()\n",
    "\n",
    "case_by_date_florida_np = np.reshape(case_by_date_florida_np, (-1, 1))\n",
    "# print(NtsC.shape\n",
    "# exit()\n",
    "\n",
    "case_by_date_florida_train, case_by_date_florida_test = split(case_by_date_florida_np)\n",
    "# print(case_by_date_florida_train.shape)\n",
    "# print(case_by_date_florida_test.shape)\n",
    "# exit()\n",
    "\n",
    "\n",
    "# test2 = np.reshape(test, (-1, 1))\n",
    "generator_train = TimeseriesGenerator(\n",
    "    case_by_date_florida_train, case_by_date_florida_train, length=n_input, batch_size=1\n",
    ")\n",
    "# print(list(generator))\n"
   ]
  },
  {
   "cell_type": "code",
   "execution_count": 14,
   "metadata": {},
   "outputs": [],
   "source": [
    "model = Sequential()\n",
    "model.add(LSTM(150, activation=\"relu\", input_shape=(n_input, n_features)))\n",
    "model.add(Dense(1))\n",
    "model.compile(optimizer=\"adam\", loss=\"mse\")\n",
    "# print(model.summary())\n",
    "# exit()"
   ]
  },
  {
   "cell_type": "code",
   "execution_count": 15,
   "metadata": {},
   "outputs": [
    {
     "name": "stdout",
     "output_type": "stream",
     "text": [
      "Epoch 1/25\n",
      "287/287 [==============================] - 1s 4ms/step - loss: 22957969408.0000\n",
      "Epoch 2/25\n",
      "287/287 [==============================] - 1s 4ms/step - loss: 1119555840.0000\n",
      "Epoch 3/25\n",
      "287/287 [==============================] - 1s 4ms/step - loss: 489870688.0000\n",
      "Epoch 4/25\n",
      "287/287 [==============================] - 1s 4ms/step - loss: 1479666944.0000\n",
      "Epoch 5/25\n",
      "287/287 [==============================] - 1s 4ms/step - loss: 1154280064.0000\n",
      "Epoch 6/25\n",
      "287/287 [==============================] - 1s 4ms/step - loss: 925810560.0000\n",
      "Epoch 7/25\n",
      "287/287 [==============================] - 1s 4ms/step - loss: 346556736.0000\n",
      "Epoch 8/25\n",
      "287/287 [==============================] - 1s 4ms/step - loss: 874333440.0000\n",
      "Epoch 9/25\n",
      "287/287 [==============================] - 1s 4ms/step - loss: 245315840.0000\n",
      "Epoch 10/25\n",
      "287/287 [==============================] - 1s 4ms/step - loss: 167640368.0000\n",
      "Epoch 11/25\n",
      "287/287 [==============================] - 1s 4ms/step - loss: 179964384.0000\n",
      "Epoch 12/25\n",
      "287/287 [==============================] - 1s 4ms/step - loss: 203851104.0000\n",
      "Epoch 13/25\n",
      "287/287 [==============================] - 1s 3ms/step - loss: 1152928000.0000\n",
      "Epoch 14/25\n",
      "287/287 [==============================] - 1s 4ms/step - loss: 907150400.0000\n",
      "Epoch 15/25\n",
      "287/287 [==============================] - 1s 4ms/step - loss: 282343680.0000\n",
      "Epoch 16/25\n",
      "287/287 [==============================] - 1s 3ms/step - loss: 630004736.0000\n",
      "Epoch 17/25\n",
      "287/287 [==============================] - 1s 3ms/step - loss: 197016064.0000\n",
      "Epoch 18/25\n",
      "287/287 [==============================] - 1s 4ms/step - loss: 317141632.0000\n",
      "Epoch 19/25\n",
      "287/287 [==============================] - 1s 4ms/step - loss: 333117984.0000\n",
      "Epoch 20/25\n",
      "287/287 [==============================] - 1s 4ms/step - loss: 493317056.0000\n",
      "Epoch 21/25\n",
      "287/287 [==============================] - 1s 4ms/step - loss: 521170304.0000\n",
      "Epoch 22/25\n",
      "287/287 [==============================] - 1s 4ms/step - loss: 178788752.0000\n",
      "Epoch 23/25\n",
      "287/287 [==============================] - 1s 4ms/step - loss: 281437280.0000\n",
      "Epoch 24/25\n",
      "287/287 [==============================] - 1s 4ms/step - loss: 225537840.0000\n",
      "Epoch 25/25\n",
      "287/287 [==============================] - 2s 5ms/step - loss: 184017072.0000\n"
     ]
    },
    {
     "data": {
      "text/plain": [
       "[<matplotlib.lines.Line2D at 0x7fd869bfa6d0>]"
      ]
     },
     "execution_count": 15,
     "metadata": {},
     "output_type": "execute_result"
    },
    {
     "data": {
      "image/png": "[encoded data removed]",
      "text/plain": [
       "<Figure size 960x480 with 1 Axes>"
      ]
     },
     "metadata": {
      "needs_background": "light"
     },
     "output_type": "display_data"
    }
   ],
   "source": [
    "model.fit_generator(generator_train, epochs=25)\n",
    "loss_per_epoch = model.history.history[\"loss\"]\n",
    "fig = plt.figure(dpi=120, figsize=(8, 4))\n",
    "ax = plt.axes()\n",
    "ax.set(xlabel=\"Number of Epochs\", ylabel=\"MSE Loss\", title=\"Loss Curve of RNN LSTM\")\n",
    "plt.plot(range(len(loss_per_epoch)), loss_per_epoch, lw=2)"
   ]
  },
  {
   "cell_type": "code",
   "execution_count": 17,
   "metadata": {},
   "outputs": [],
   "source": [
    "test_predictions = []\n",
    "\n",
    "first_eval_batch = case_by_date_florida_train[-n_input:]\n",
    "current_batch = first_eval_batch.reshape((1, n_input, n_features))\n",
    "\n",
    "for i in range(len(case_by_date_florida_test)):\n",
    "    current_pred = model.predict(current_batch)[0]\n",
    "    test_predictions.append(current_pred)     \n",
    "    current_batch = np.append(current_batch[:,1:,:],[[current_pred]],axis=1)"
   ]
  },
  {
   "cell_type": "code",
   "execution_count": 18,
   "metadata": {},
   "outputs": [],
   "source": [
    "test_predictions=np.ravel(test_predictions)"
   ]
  },
  {
   "cell_type": "code",
   "execution_count": 19,
   "metadata": {},
   "outputs": [],
   "source": [
    "pred=pd.DataFrame(columns={\"current\",\"prediction\"})"
   ]
  },
  {
   "cell_type": "code",
   "execution_count": 22,
   "metadata": {},
   "outputs": [
    {
     "data": {
      "text/plain": [
       "(52,)"
      ]
     },
     "execution_count": 22,
     "metadata": {},
     "output_type": "execute_result"
    }
   ],
   "source": [
    "test_predictions.shape"
   ]
  },
  {
   "cell_type": "code",
   "execution_count": 23,
   "metadata": {},
   "outputs": [
    {
     "data": {
      "text/plain": [
       "(52, 1)"
      ]
     },
     "execution_count": 23,
     "metadata": {},
     "output_type": "execute_result"
    }
   ],
   "source": [
    "case_by_date_florida_test.shape"
   ]
  },
  {
   "cell_type": "code",
   "execution_count": 24,
   "metadata": {},
   "outputs": [],
   "source": [
    "pred[\"current\"]=case_by_date_florida_test.reshape(-1)\n",
    "pred[\"prediction\"]=test_predictions"
   ]
  },
  {
   "cell_type": "code",
   "execution_count": 27,
   "metadata": {},
   "outputs": [
    {
     "data": {
      "text/html": [
       "<div>\n",
       "<style scoped>\n",
       "    .dataframe tbody tr th:only-of-type {\n",
       "        vertical-align: middle;\n",
       "    }\n",
       "\n",
       "    .dataframe tbody tr th {\n",
       "        vertical-align: top;\n",
       "    }\n",
       "\n",
       "    .dataframe thead th {\n",
       "        text-align: right;\n",
       "    }\n",
       "</style>\n",
       "<table border=\"1\" class=\"dataframe\">\n",
       "  <thead>\n",
       "    <tr style=\"text-align: right;\">\n",
       "      <th></th>\n",
       "      <th>current</th>\n",
       "      <th>prediction</th>\n",
       "    </tr>\n",
       "  </thead>\n",
       "  <tbody>\n",
       "    <tr>\n",
       "      <th>0</th>\n",
       "      <td>1181475.0</td>\n",
       "      <td>1165733.625</td>\n",
       "    </tr>\n",
       "    <tr>\n",
       "      <th>1</th>\n",
       "      <td>1193157.0</td>\n",
       "      <td>1174665.250</td>\n",
       "    </tr>\n",
       "    <tr>\n",
       "      <th>2</th>\n",
       "      <td>1201558.0</td>\n",
       "      <td>1183722.125</td>\n",
       "    </tr>\n",
       "    <tr>\n",
       "      <th>3</th>\n",
       "      <td>1212573.0</td>\n",
       "      <td>1192775.250</td>\n",
       "    </tr>\n",
       "    <tr>\n",
       "      <th>4</th>\n",
       "      <td>1223007.0</td>\n",
       "      <td>1199801.375</td>\n",
       "    </tr>\n",
       "  </tbody>\n",
       "</table>\n",
       "</div>"
      ],
      "text/plain": [
       "     current   prediction\n",
       "0  1181475.0  1165733.625\n",
       "1  1193157.0  1174665.250\n",
       "2  1201558.0  1183722.125\n",
       "3  1212573.0  1192775.250\n",
       "4  1223007.0  1199801.375"
      ]
     },
     "execution_count": 27,
     "metadata": {},
     "output_type": "execute_result"
    }
   ],
   "source": [
    "pred.head()"
   ]
  },
  {
   "cell_type": "code",
   "execution_count": 28,
   "metadata": {},
   "outputs": [],
   "source": [
    "dd=pd.DataFrame(columns=['MAPE','MSE','RMSE'])"
   ]
  },
  {
   "cell_type": "code",
   "execution_count": 42,
   "metadata": {},
   "outputs": [],
   "source": [
    "def mape(y1, y_pred): \n",
    "    y1, y_pred = np.array(y1), np.array(y_pred)\n",
    "    return np.mean(np.abs((y1 - y_pred) / y1)) * 100\n",
    "\n",
    "def mse(y1, y_pred): \n",
    "    y1, y_pred = np.array(y1), np.array(y_pred)\n",
    "    return np.mean((y1 - y_pred)**2)\n",
    "\n",
    "def rmse(y1, y_pred): \n",
    "    y1, y_pred = np.array(y1), np.array(y_pred)\n",
    "    return np.sqrt(np.mean((y1 - y_pred)**2))\n",
    "def r2score(y1, y_pred): \n",
    "    y1, y_pred = np.array(y1), np.array(y_pred)\n",
    "    return r2_score(y1, y_pred)"
   ]
  },
  {
   "cell_type": "code",
   "execution_count": 43,
   "metadata": {},
   "outputs": [
    {
     "name": "stdout",
     "output_type": "stream",
     "text": [
      "Mean absolute % error using LSTM:  7.225363701581955\n",
      "Mean Square Error error using LSTM:  16500180000.0\n",
      "Root Mean Square error using LSTM:  128453.02\n",
      "R2 score using LSTM:  0.5325339506464277\n"
     ]
    }
   ],
   "source": [
    "print(\"Mean absolute % error using LSTM: \",mape(pred[\"current\"],pred[\"prediction\"]))\n",
    "print(\"Mean Square Error error using LSTM: \",mse(pred[\"current\"],pred[\"prediction\"]))\n",
    "print(\"Root Mean Square error using LSTM: \",rmse(pred[\"current\"],pred[\"prediction\"]))\n",
    "print(\"R2 score using LSTM: \",r2score(pred[\"current\"],pred[\"prediction\"]))\n",
    "dd=pd.DataFrame({'MAPE': [mape(pred[\"current\"],pred[\"prediction\"])], 'MSE': [mse(pred[\"current\"],pred[\"prediction\"])], 'RMSE': [rmse(pred[\"current\"],pred[\"prediction\"])]}, index=[1])"
   ]
  },
  {
   "cell_type": "code",
   "execution_count": null,
   "metadata": {},
   "outputs": [],
   "source": []
  },
  {
   "cell_type": "code",
   "execution_count": null,
   "metadata": {},
   "outputs": [],
   "source": []
  },
  {
   "cell_type": "code",
   "execution_count": null,
   "metadata": {},
   "outputs": [],
   "source": []
  },
  {
   "cell_type": "code",
   "execution_count": null,
   "metadata": {},
   "outputs": [],
   "source": []
  },
  {
   "cell_type": "code",
   "execution_count": null,
   "metadata": {},
   "outputs": [],
   "source": []
  },
  {
   "cell_type": "code",
   "execution_count": null,
   "metadata": {},
   "outputs": [],
   "source": []
  },
  {
   "cell_type": "code",
   "execution_count": null,
   "metadata": {},
   "outputs": [],
   "source": []
  },
  {
   "cell_type": "code",
   "execution_count": null,
   "metadata": {},
   "outputs": [],
   "source": []
  },
  {
   "cell_type": "code",
   "execution_count": null,
   "metadata": {},
   "outputs": [],
   "source": []
  },
  {
   "cell_type": "code",
   "execution_count": null,
   "metadata": {},
   "outputs": [],
   "source": []
  },
  {
   "cell_type": "code",
   "execution_count": null,
   "metadata": {},
   "outputs": [],
   "source": []
  }
 ],
 "metadata": {
  "kernelspec": {
   "display_name": "Python 3",
   "language": "python",
   "name": "python3"
  },
  "language_info": {
   "codemirror_mode": {
    "name": "ipython",
    "version": 3
   },
   "file_extension": ".py",
   "mimetype": "text/x-python",
   "name": "python",
   "nbconvert_exporter": "python",
   "pygments_lexer": "ipython3",
   "version": "3.8.6"
  }
 },
 "nbformat": 4,
 "nbformat_minor": 4
}
